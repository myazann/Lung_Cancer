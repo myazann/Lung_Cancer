{
  "nbformat": 4,
  "nbformat_minor": 0,
  "metadata": {
    "colab": {
      "name": "Lung_Cancer_Detection.ipynb",
      "provenance": [],
      "collapsed_sections": [],
      "mount_file_id": "1WapJ9LY3qQNvBuHKkGECxYIu74QohNXA",
      "authorship_tag": "ABX9TyOJgpSZPPreRa9gxchlPAn/",
      "include_colab_link": true
    },
    "kernelspec": {
      "display_name": "Python 3",
      "name": "python3"
    }
  },
  "cells": [
    {
      "cell_type": "markdown",
      "metadata": {
        "id": "view-in-github",
        "colab_type": "text"
      },
      "source": [
        "<a href=\"https://colab.research.google.com/github/myazann/Lung_Cancer/blob/main/Lung_Cancer_Detection.ipynb\" target=\"_parent\"><img src=\"https://colab.research.google.com/assets/colab-badge.svg\" alt=\"Open In Colab\"/></a>"
      ]
    },
    {
      "cell_type": "code",
      "metadata": {
        "id": "QUOtyNFueVh1"
      },
      "source": [
        "!pip install pyyaml==5.1\n",
        "!python -m pip install 'git+https://github.com/facebookresearch/detectron2.git' > /dev/null\n",
        "\n",
        "!rm -rf sample_data\n",
        "!rm sample.py\n",
        "!rm README.md\n",
        "\n",
        "!cp ./drive/MyDrive/bboxs.json .\n",
        "!cp ./drive/MyDrive/lung_ct_train.zip .\n",
        "!cp ./drive/MyDrive/lung_ct_val.zip .\n",
        "\n",
        "!unzip lung_ct_train.zip > /dev/null\n",
        "!rm lung_ct_train.zip\n",
        "!unzip lung_ct_val.zip > /dev/null\n",
        "!rm lung_ct_val.zip"
      ],
      "execution_count": null,
      "outputs": []
    },
    {
      "cell_type": "code",
      "metadata": {
        "id": "GVfaum2hcZIp"
      },
      "source": [
        "import pandas as pd\n",
        "import json\n",
        "import os\n",
        "import copy\n",
        "import random\n",
        "import numpy as np\n",
        "import torchvision.transforms as transforms\n",
        "import torch\n",
        "import cv2\n",
        "from PIL import Image\n",
        "from torch.utils.data import Dataset, DataLoader\n",
        "import itertools\n",
        "import torchvision\n",
        "\n",
        "from detectron2.structures import BoxMode\n",
        "from detectron2 import model_zoo\n",
        "from detectron2.engine import DefaultPredictor\n",
        "from detectron2.config import get_cfg\n",
        "from detectron2.utils.visualizer import Visualizer\n",
        "from detectron2.data import MetadataCatalog, DatasetCatalog"
      ],
      "execution_count": 1,
      "outputs": []
    },
    {
      "cell_type": "markdown",
      "metadata": {
        "id": "QFQ5z9cszA7m"
      },
      "source": [
        "##Necessary functions\n",
        "\n"
      ]
    },
    {
      "cell_type": "code",
      "metadata": {
        "id": "na0G_vHxgT8D"
      },
      "source": [
        "##Function to visualize an image with its corresponding label\n",
        "\n",
        "def get_img_with_bbox(im, labels):\n",
        "\n",
        "  d_im = copy.deepcopy(im.numpy().squeeze())\n",
        "\n",
        "  xmax = int(labels[\"xmax\"])\n",
        "  xmin = int(labels[\"xmin\"])\n",
        "  ymax = int(labels[\"ymax\"])\n",
        "  ymin = int(labels[\"ymin\"])\n",
        "\n",
        "  cv2.rectangle(d_im, (xmin, ymin), (xmax, ymax), (255,255,255), 2)\n",
        "\n",
        "  display(Image.fromarray(d_im))"
      ],
      "execution_count": 2,
      "outputs": []
    },
    {
      "cell_type": "markdown",
      "metadata": {
        "id": "YY7vUbuhxr0c"
      },
      "source": [
        "## Create Image Dataset\n"
      ]
    },
    {
      "cell_type": "code",
      "metadata": {
        "id": "cTtjjb1TQWRk"
      },
      "source": [
        "def get_ct_scans(mode):\n",
        "\n",
        "  category_map = {\n",
        "                  \"A\": 0,\n",
        "                  \"B\": 1,\n",
        "                  \"G\": 2\n",
        "                  }\n",
        "\n",
        "  with open('bboxs.json') as json_file:\n",
        "    bboxs = json.load(json_file)\n",
        "\n",
        "  dataset_dicts = []\n",
        "  path = \"lung_ct_\" + mode\n",
        "\n",
        "  for ptnt in os.listdir(path):\n",
        "    for i, img in enumerate(os.listdir(path + \"/\" + ptnt)):\n",
        "\n",
        "      label = {}\n",
        "      bboxes = bboxs[img.split(\".j\")[0]]\n",
        "\n",
        "      label[\"filename\"] = path + \"/\" + ptnt + \"/\" + img\n",
        "      label[\"image_id\"] = i\n",
        "      label[\"height\"] = 512\n",
        "      label[\"width\"] = 512\n",
        "      boxes = {\n",
        "      \"bbox\": [int(bboxes[\"xmin\"]), int(bboxes[\"ymin\"]), int(bboxes[\"xmax\"]), int(bboxes[\"ymax\"])],\n",
        "      \"bbox_mode\": BoxMode.XYXY_ABS,\n",
        "      \"category_id\": category_map[bboxes[\"class\"]],\n",
        "      }\n",
        "      label[\"annotations\"] = boxes\n",
        "\n",
        "      dataset_dicts.append(label)  \n",
        "\n",
        "  return dataset_dicts"
      ],
      "execution_count": 3,
      "outputs": []
    },
    {
      "cell_type": "code",
      "metadata": {
        "id": "SdYPEwHUSNcO"
      },
      "source": [
        "for d in [\"train\", \"val\"]:\n",
        "  DatasetCatalog.register(\"ct_\" + d, lambda d=d: get_ct_scans(d))\n",
        "  MetadataCatalog.get(\"ct_\" + d).set(thing_classes=[\"A\", \"B\", \"G\"])"
      ],
      "execution_count": 4,
      "outputs": []
    },
    {
      "cell_type": "code",
      "metadata": {
        "id": "cBx9fcBDZn8P"
      },
      "source": [
        "DatasetCatalog.get(\"ct_train\")"
      ],
      "execution_count": null,
      "outputs": []
    },
    {
      "cell_type": "markdown",
      "metadata": {
        "id": "dP4mTK3tJJhO"
      },
      "source": [
        "##See randomly selected 10 images"
      ]
    },
    {
      "cell_type": "code",
      "metadata": {
        "id": "WEL2InnHw46F"
      },
      "source": [
        "rs = random.sample(range(0, len(ct_train)), 10)\n",
        "\n",
        "for elem in rs:\n",
        "  get_img_with_bbox(ct_train[elem][0], ct_train[elem][1])\n",
        "  print(\"\\n\")"
      ],
      "execution_count": null,
      "outputs": []
    },
    {
      "cell_type": "code",
      "metadata": {
        "id": "0lCzgDVRyL9R"
      },
      "source": [
        "\"\"\"\n",
        "    label[\"img_name\"] = self.imgs[index]\n",
        "    label[\"image_id\"] = index\n",
        "    label[\"height\"] = 512\n",
        "    label[\"width\"] = 512\n",
        "    boxes = {\n",
        "    \"bbox\": [item_label[\"xmin\"], item_label[\"ymin\"], item_label[\"xmax\"], item_label[\"ymax\"]],\n",
        "    \"bbox_mode\": BoxMode.XYXY_ABS,\n",
        "    \"category_id\": self.category_map[item_label[\"class\"]],\n",
        "    }\n",
        "    label[\"annotations\"] = obj\n",
        "    \n",
        "\"\"\""
      ],
      "execution_count": null,
      "outputs": []
    },
    {
      "cell_type": "code",
      "metadata": {
        "id": "TeV5P9m726Zi"
      },
      "source": [
        "class CTDataset(torch.utils.data.Dataset):\n",
        "\n",
        "  def __init__(self, train=True, transform=True):\n",
        "\n",
        "    self.transform = transform \n",
        "    self.train = train\n",
        "    self.imgs = get_image_paths(self.train)\n",
        "    self.labels = bboxs  \n",
        "    self.category_map = {\n",
        "                          \"A\": 0,\n",
        "                          \"B\": 1,\n",
        "                          \"G\": 2\n",
        "                        }\n",
        "        \n",
        "  def __getitem__(self, index):\n",
        "\n",
        "    im = cv2.imread(self.imgs[index])\n",
        "    im = cv2.cvtColor(im, cv2.COLOR_RGB2GRAY)\n",
        "\n",
        "    im = torch.tensor(im, dtype=torch.double)[None, ...]\n",
        "    if self.transform:\n",
        "      im = self.preprocess(im)\n",
        "\n",
        "    img_name = self.imgs[index].split(\"/\")[-1].split(\".j\")[0]\n",
        "    item_label = self.labels[img_name]\n",
        "\n",
        "    label = {}\n",
        "    label[\"img_name\"] = self.imgs[index]\n",
        "    label[\"image_id\"] = index\n",
        "    label[\"height\"] = 512\n",
        "    label[\"width\"] = 512\n",
        "    boxes = {\n",
        "    \"bbox\": [item_label[\"xmin\"], item_label[\"ymin\"], item_label[\"xmax\"], item_label[\"ymax\"]],\n",
        "    \"bbox_mode\": BoxMode.XYXY_ABS,\n",
        "    \"category_id\": self.category_map[item_label[\"class\"]],\n",
        "    }\n",
        "    label[\"annotations\"] = boxes\n",
        "\n",
        "    return im, label\n",
        "\n",
        "  def __len__(self):\n",
        "    return len(self.imgs)\n",
        "\n",
        "  def preprocess(self, img):\n",
        "\n",
        "      return transforms.Compose(\n",
        "      [\n",
        "      ##transforms.ToTensor(),\n",
        "      transforms.CenterCrop(384),\n",
        "      transforms.RandomHorizontalFlip(0.5),\n",
        "      transforms.RandomRotation(30),\n",
        "      transforms.RandomVerticalFlip(),\n",
        "      transforms.GaussianBlur(3),\n",
        "      transforms.Normalize((0.,), (1.,))\n",
        "      ]\n",
        "      )(img)"
      ],
      "execution_count": 14,
      "outputs": []
    }
  ]
}