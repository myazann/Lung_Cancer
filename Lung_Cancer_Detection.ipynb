{
  "nbformat": 4,
  "nbformat_minor": 0,
  "metadata": {
    "colab": {
      "name": "Lung_Cancer_Detection.ipynb",
      "provenance": [],
      "collapsed_sections": [],
      "mount_file_id": "1WapJ9LY3qQNvBuHKkGECxYIu74QohNXA",
      "authorship_tag": "ABX9TyOFWxN1OlShpPgoxwf6FUdC",
      "include_colab_link": true
    },
    "kernelspec": {
      "display_name": "Python 3",
      "name": "python3"
    }
  },
  "cells": [
    {
      "cell_type": "markdown",
      "metadata": {
        "id": "view-in-github",
        "colab_type": "text"
      },
      "source": [
        "<a href=\"https://colab.research.google.com/github/myazann/Lung_Cancer/blob/main/Lung_Cancer_Detection.ipynb\" target=\"_parent\"><img src=\"https://colab.research.google.com/assets/colab-badge.svg\" alt=\"Open In Colab\"/></a>"
      ]
    },
    {
      "cell_type": "code",
      "metadata": {
        "id": "GVfaum2hcZIp",
        "colab": {
          "base_uri": "https://localhost:8080/"
        },
        "outputId": "1369d89b-47d1-4656-8665-6d039df065f6"
      },
      "source": [
        "!rm -rf sample_data\n",
        "!rm sample.py\n",
        "!rm README.md\n",
        "\n",
        "import pandas as pd\n",
        "import json\n",
        "import os\n",
        "import numpy as np"
      ],
      "execution_count": 1,
      "outputs": [
        {
          "output_type": "stream",
          "text": [
            "Initialized empty Git repository in /content/.git/\n",
            "remote: Enumerating objects: 71, done.\u001b[K\n",
            "remote: Counting objects: 100% (71/71), done.\u001b[K\n",
            "remote: Compressing objects: 100% (67/67), done.\u001b[K\n",
            "remote: Total 385 (delta 34), reused 0 (delta 0), pack-reused 314\u001b[K\n",
            "Receiving objects: 100% (385/385), 49.67 KiB | 876.00 KiB/s, done.\n",
            "Resolving deltas: 100% (120/120), done.\n",
            "From https://github.com/myazann/TCIA-API-SDK\n",
            " * branch            HEAD       -> FETCH_HEAD\n",
            "Collecting xmltodict\n",
            "  Downloading https://files.pythonhosted.org/packages/28/fd/30d5c1d3ac29ce229f6bdc40bbc20b28f716e8b363140c26eff19122d8a5/xmltodict-0.12.0-py2.py3-none-any.whl\n",
            "Installing collected packages: xmltodict\n",
            "Successfully installed xmltodict-0.12.0\n"
          ],
          "name": "stdout"
        }
      ]
    },
    {
      "cell_type": "code",
      "metadata": {
        "id": "QUOtyNFueVh1"
      },
      "source": [
        "!cp ./drive/MyDrive/bboxs.json .\n",
        "!cp ./drive/MyDrive/images.zip .\n",
        "!mkdir images\n",
        "!unzip images.zip -d images > /dev/null\n",
        "!rm images.zip\n",
        "\n",
        "with open('bboxs.json') as json_file:\n",
        "  labels = json.load(json_file)"
      ],
      "execution_count": null,
      "outputs": []
    },
    {
      "cell_type": "code",
      "metadata": {
        "id": "v5KYkj6088-9"
      },
      "source": [
        "bboxs\n"
      ],
      "execution_count": null,
      "outputs": []
    },
    {
      "cell_type": "code",
      "metadata": {
        "id": "JD7xB4wnO-ER"
      },
      "source": [
        "classes = [cls[0] for cls in bboxs.keys()]"
      ],
      "execution_count": null,
      "outputs": []
    },
    {
      "cell_type": "code",
      "metadata": {
        "colab": {
          "base_uri": "https://localhost:8080/"
        },
        "id": "7Kuzn0BIPKnz",
        "outputId": "6c00cd6a-5042-440d-96c3-5fb9e24d6c6b"
      },
      "source": [
        "\n",
        "\n",
        "pd.Series(classes).value_counts(normalize = True)"
      ],
      "execution_count": null,
      "outputs": [
        {
          "output_type": "execute_result",
          "data": {
            "text/plain": [
              "A    0.661988\n",
              "G    0.232914\n",
              "B    0.098729\n",
              "E    0.006369\n",
              "dtype: float64"
            ]
          },
          "metadata": {
            "tags": []
          },
          "execution_count": 91
        }
      ]
    }
  ]
}