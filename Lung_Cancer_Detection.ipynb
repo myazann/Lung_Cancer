{
  "nbformat": 4,
  "nbformat_minor": 0,
  "metadata": {
    "colab": {
      "name": "Lung_Cancer_Detection.ipynb",
      "provenance": [],
      "collapsed_sections": [],
      "mount_file_id": "1WapJ9LY3qQNvBuHKkGECxYIu74QohNXA",
      "authorship_tag": "ABX9TyN+YY40A/pGrzrmG6MdiWZb",
      "include_colab_link": true
    },
    "kernelspec": {
      "display_name": "Python 3",
      "name": "python3"
    }
  },
  "cells": [
    {
      "cell_type": "markdown",
      "metadata": {
        "id": "view-in-github",
        "colab_type": "text"
      },
      "source": [
        "<a href=\"https://colab.research.google.com/github/myazann/Lung_Cancer/blob/main/Lung_Cancer_Detection.ipynb\" target=\"_parent\"><img src=\"https://colab.research.google.com/assets/colab-badge.svg\" alt=\"Open In Colab\"/></a>"
      ]
    },
    {
      "cell_type": "code",
      "metadata": {
        "id": "GVfaum2hcZIp",
        "colab": {
          "base_uri": "https://localhost:8080/"
        },
        "outputId": "b940eee1-6898-464d-e51a-1035fb7355e6"
      },
      "source": [
        "!rm -rf sample_data\n",
        "!rm sample.py\n",
        "!rm README.md\n",
        "!pip install pydicom\n",
        "\n",
        "import pandas as pd\n",
        "import json\n",
        "import os\n",
        "import numpy as np\n",
        "from pydicom import dcmread"
      ],
      "execution_count": 1,
      "outputs": [
        {
          "output_type": "stream",
          "text": [
            "rm: cannot remove 'sample.py': No such file or directory\n",
            "rm: cannot remove 'README.md': No such file or directory\n",
            "Requirement already satisfied: pydicom in /usr/local/lib/python3.7/dist-packages (2.1.2)\n"
          ],
          "name": "stdout"
        }
      ]
    },
    {
      "cell_type": "code",
      "metadata": {
        "id": "QUOtyNFueVh1"
      },
      "source": [
        "!cp ./drive/MyDrive/bboxs.json .\n",
        "!cp ./drive/MyDrive/lung_ct_train.zip .\n",
        "!cp ./drive/MyDrive/lung_ct_val.zip .\n",
        "\n",
        "\n",
        "!unzip lung_ct_train.zip > /dev/null\n",
        "!rm lung_ct_train.zip\n",
        "!unzip lung_ct_val.zip > /dev/null\n",
        "!rm lung_ct_val.zip\n",
        "\n",
        "\n",
        "with open('bboxs.json') as json_file:\n",
        "  labels = json.load(json_file)\n",
        "\n",
        "train_imgs = [e.split(\".d\")[0] for e in os.listdir(\"lung_ct_train\")]\n",
        "train_labels = dict((k.split(\"-\")[1],v) for k,v in labels.items() if k.split(\"-\")[1] in train_imgs)\n",
        "\n",
        "val_imgs = [e.split(\".d\")[0] for e in os.listdir(\"lung_ct_val\")]\n",
        "val_labels = dict((k.split(\"-\")[1],v) for k,v in labels.items() if k.split(\"-\")[1] in val_imgs)"
      ],
      "execution_count": null,
      "outputs": []
    },
    {
      "cell_type": "code",
      "metadata": {
        "id": "JD7xB4wnO-ER",
        "colab": {
          "base_uri": "https://localhost:8080/"
        },
        "outputId": "11148289-d0a4-4ef9-a9e1-e292e4f19045"
      },
      "source": [
        "train_dcm_files = []\n",
        "val_dcm_files = []\n",
        "\n",
        "for dcm in os.listdir(\"lung_ct_train\"):\n",
        "  try:\n",
        "    train_dcm_files.append(dcmread(\"./lung_ct_train/\" + dcm))\n",
        "  except Exception as e:\n",
        "    print(e)\n",
        "\n",
        "for dcm in os.listdir(\"lung_ct_val\"):\n",
        "  try:\n",
        "    val_dcm_files.append(dcmread(\"./lung_ct_val/\" + dcm))\n",
        "  except Exception as e:\n",
        "    print(e)"
      ],
      "execution_count": 2,
      "outputs": [
        {
          "output_type": "stream",
          "text": [
            "File is missing DICOM File Meta Information header or the 'DICM' prefix is missing from the header. Use force=True to force reading.\n"
          ],
          "name": "stdout"
        }
      ]
    },
    {
      "cell_type": "code",
      "metadata": {
        "id": "y6Hn4TVKeJbs"
      },
      "source": [
        "i = 0 \n",
        "for dcm in types:\n",
        "  try:\n",
        "    dcm.RescaleSlope\n",
        "  except:\n",
        "    i += 1\n",
        "    print(i)"
      ],
      "execution_count": null,
      "outputs": []
    },
    {
      "cell_type": "code",
      "metadata": {
        "colab": {
          "base_uri": "https://localhost:8080/"
        },
        "id": "7Kuzn0BIPKnz",
        "outputId": "1d8ea42c-e6cf-4a46-f19b-657306642588"
      },
      "source": [
        "types[0].RescaleSlope"
      ],
      "execution_count": 71,
      "outputs": [
        {
          "output_type": "execute_result",
          "data": {
            "text/plain": [
              "\"1.0\""
            ]
          },
          "metadata": {
            "tags": []
          },
          "execution_count": 71
        }
      ]
    }
  ]
}