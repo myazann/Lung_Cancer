{
  "nbformat": 4,
  "nbformat_minor": 0,
  "metadata": {
    "colab": {
      "name": "Data_Preparation.ipynb",
      "provenance": [],
      "collapsed_sections": [],
      "mount_file_id": "1LUvt8Y0wZET4jLHjEnS_CPQHgtWrqnuf",
      "authorship_tag": "ABX9TyOx6g7mABdBkEv4ERxMlFmU",
      "include_colab_link": true
    },
    "kernelspec": {
      "name": "python3",
      "display_name": "Python 3"
    },
    "language_info": {
      "name": "python"
    }
  },
  "cells": [
    {
      "cell_type": "markdown",
      "metadata": {
        "id": "view-in-github",
        "colab_type": "text"
      },
      "source": [
        "<a href=\"https://colab.research.google.com/github/myazann/Lung_Cancer/blob/main/Data_Preparation.ipynb\" target=\"_parent\"><img src=\"https://colab.research.google.com/assets/colab-badge.svg\" alt=\"Open In Colab\"/></a>"
      ]
    },
    {
      "cell_type": "code",
      "metadata": {
        "id": "jrWhUm_56KSs"
      },
      "source": [
        "!git init\n",
        "!git pull https://github.com/myazann/TCIA-API-SDK.git\n",
        "!cp -r /content/tcia-rest-client-python/src/* /content\n",
        "\n",
        "!rm -rf tcia-rest-client-java/\n",
        "!rm -rf tcia-rest-client-python/\n",
        "\n",
        "!cp /content/drive/MyDrive/Annotation.zip /content\n",
        "!cp /content/drive/MyDrive/bboxs.json /content\n",
        "!cp /content/drive/MyDrive/ptnt_to_series_ids.json /content\n",
        "!unzip Annotation.zip > /dev/null\n",
        "!rm Annotation.zip\n",
        "\n",
        "!pip install pydicom\n",
        "!pip install xmltodict\n",
        "!pip install pandasql\n",
        "!pip install med2image\n",
        "\n",
        "!rm -rf sample_data\n",
        "!rm sample.py\n",
        "!rm README.md"
      ],
      "execution_count": null,
      "outputs": []
    },
    {
      "cell_type": "code",
      "metadata": {
        "id": "Yg5xMMm2rnLs"
      },
      "source": [
        "import json\n",
        "import os\n",
        "import numpy as np\n",
        "import subprocess\n",
        "import pandas as pd\n",
        "import itertools\n",
        "\n",
        "import cv2\n",
        "from pydicom import dcmread\n",
        "from tciaclient import TCIAClient\n",
        "from xml.etree import cElementTree as ElementTree\n",
        "import xmltodict\n",
        "import urllib.request, urllib.error, urllib.parse\n",
        "import pandasql as ps\n",
        "from sklearn.model_selection import train_test_split\n",
        "import matplotlib.pyplot as plt\n",
        "from matplotlib.backends.backend_agg import FigureCanvasAgg as FigureCanvas\n",
        "from matplotlib.figure import Figure\n",
        "from PIL import Image\n",
        "\n",
        "\n",
        "tc = TCIAClient(baseUrl=\"https://services.cancerimagingarchive.net/services/v4\", resource = \"TCIA\")"
      ],
      "execution_count": 2,
      "outputs": []
    },
    {
      "cell_type": "markdown",
      "metadata": {
        "id": "qbE73ROwWsfY"
      },
      "source": [
        "## Get Bounding Boxes"
      ]
    },
    {
      "cell_type": "code",
      "metadata": {
        "id": "PzeZLn7JTCc1"
      },
      "source": [
        "## Get bounding boxs associated with the images\n",
        "\n",
        "if os.path.exists(\"bboxs.json\"):\n",
        "  \n",
        "  with open(\"bboxs.json\") as file:\n",
        "    bboxs = json.load(file)\n",
        "\n",
        "else:\n",
        "\n",
        "  folders = np.array(os.listdir(\"Annotation\"))\n",
        "\n",
        "  bboxs = {}\n",
        "\n",
        "  for folder in folders:\n",
        "    path = \"Annotation/\" + folder\n",
        "    for img in os.listdir(path):\n",
        "      file_path = path + \"/\" + img\n",
        "      try:\n",
        "        dt = xmltodict.parse(ElementTree.tostring(ElementTree.parse(file_path).getroot()))[\"annotation\"][\"object\"]\n",
        "        if isinstance(dt, list):\n",
        "          continue\n",
        "        else:\n",
        "          dt = dt[\"bndbox\"]\n",
        "          dt[\"class\"] = folder[0]\n",
        "          dt[\"patient\"] = folder\n",
        "          img_name = img.split(\".x\")[0]\n",
        "          bboxs[img_name] = dt\n",
        "      except Exception as e:\n",
        "        print(e)\n",
        "\n",
        "  with open('bboxs.json', \"w\") as json_file:\n",
        "    json.dump(bboxs, json_file)\n"
      ],
      "execution_count": 3,
      "outputs": []
    },
    {
      "cell_type": "markdown",
      "metadata": {
        "id": "4Qktuafs7Ugb"
      },
      "source": [
        "##Get Annotations, Patients, Series ID's and SOP ID's"
      ]
    },
    {
      "cell_type": "code",
      "metadata": {
        "id": "cKSVcyP7bclK"
      },
      "source": [
        "## Get the series id of each patient with the most images\n",
        "\n",
        "if os.path.exists(\"ptnt_to_series_ids.json\"):\n",
        "  with open(\"ptnt_to_series_ids.json\") as file:\n",
        "    ptnt_to_series_ids = json.load(file)\n",
        "\n",
        "else:\n",
        "  clctn = \"Lung-PET-CT-Dx\"\n",
        "  series = json.loads(tc.get_series(collection=clctn, modality=\"CT\").read())\n",
        "  ptnt_to_series_ids = pd.DataFrame()\n",
        "\n",
        "  pt_id = []\n",
        "  series_id = []\n",
        "  img_count = []\n",
        "\n",
        "  for elem in series:\n",
        "    try:\n",
        "      if elem[\"BodyPartExamined\"] == \"CHEST\":\n",
        "        pt_id.append(elem[\"PatientID\"].split(\"-\")[1])\n",
        "        series_id.append(elem[\"SeriesInstanceUID\"])\n",
        "        img_count.append(elem[\"ImageCount\"])\n",
        "    except Exception as e:\n",
        "      print(e)\n",
        "\n",
        "  ptnt_to_series_ids[\"Patient_ID\"] = pt_id\n",
        "  ptnt_to_series_ids[\"Series_ID\"] = series_id\n",
        "  ptnt_to_series_ids[\"Image_Count\"] = img_count\n",
        "\n",
        "  ptnt_to_series_ids = ps.sqldf(\n",
        "                                 \"\"\"SELECT Patient_ID,MAX(Image_Count) Image_Count ,\n",
        "                                    MAX(Series_ID) Series_ID FROM ptnt_to_series_ids\n",
        "                                    GROUP BY Patient_ID\"\"\"\n",
        "                                    )\n",
        "\n",
        "  ptnts_with_bboxs = [box.split(\"-\")[0] for box in bboxs.keys()]\n",
        "  ptnt_to_series_ids = ptnt_to_series_ids.loc[ptnt_to_series_ids[\"Patient_ID\"].isin(ptnts_with_bboxs)]\n",
        "\n",
        "  _, ptnt_to_series_ids = train_test_split(ptnt_to_series_ids, test_size=0.25, random_state=0)\n",
        "\n",
        "  ptnt_to_series_ids = dict((p,s) for p,s in ptnt_to_series_ids[[\"Patient_ID\",\"Series_ID\"]].values)\n",
        "\n",
        "  with open('ptnt_to_series_ids.json', 'w') as json_file:\n",
        "    json.dump(ptnt_to_series_ids, json_file)\n",
        "\n",
        "  !cp ptnt_to_series_ids.json /content/drive/MyDrive"
      ],
      "execution_count": 4,
      "outputs": []
    },
    {
      "cell_type": "markdown",
      "metadata": {
        "id": "weSCHcGc7uSq"
      },
      "source": [
        "## Download images"
      ]
    },
    {
      "cell_type": "code",
      "metadata": {
        "id": "X_IeR-qPOxZj"
      },
      "source": [
        "counter = 0\n",
        "\n",
        "if not os.path.exists(\"dcm_images\"):\n",
        "  os.mkdir(\"dcm_images\")\n",
        "  ptnt_to_series_ids_nd = ptnt_to_series_ids\n",
        "else:\n",
        "  downloaded_patients = os.listdir(\"dcm_images\")\n",
        "  counter = len(downloaded_patients)\n",
        "  ptnt_to_series_ids_nd = dict((p,s) for p,s in ptnt_to_series_ids.items() if p not in downloaded_patients)\n",
        "\n",
        "\n",
        "for ptnt in ptnt_to_series_ids_nd:\n",
        "\n",
        "  print(ptnt)\n",
        "  ptnt_folder = \"dcm_images/\" + ptnt\n",
        "  os.mkdir(ptnt_folder)\n",
        "\n",
        "  tc.get_image(ptnt_to_series_ids_nd[ptnt], ptnt_folder, ptnt + \".zip\")\n",
        "\n",
        "  zip_folder = ptnt_folder + \"/\" + ptnt + \".zip\"\n",
        "  subprocess.check_call([\"unzip\", str(zip_folder), \"-d\", str(ptnt_folder)])\n",
        "  subprocess.call([\"rm\", zip_folder])\n",
        "\n",
        "  counter += 1\n",
        "\n",
        "  print(counter)\n"
      ],
      "execution_count": null,
      "outputs": []
    },
    {
      "cell_type": "markdown",
      "metadata": {
        "id": "peTn5L7WqZsX"
      },
      "source": [
        "## Convert dicom files to jpg images"
      ]
    },
    {
      "cell_type": "code",
      "metadata": {
        "id": "wdaezdDoomO_"
      },
      "source": [
        "if not os.path.exists(\"jpg_images\"):\n",
        "  os.mkdir(\"jpg_images\")\n",
        "\n",
        "for ptnt in os.listdir(\"dcm_images\"):\n",
        "  print(ptnt)\n",
        "  for dcm in os.listdir(\"dcm_images/\" + ptnt):\n",
        "    try:\n",
        "      file_name = \"dcm_images/\" + ptnt + \"/\" + dcm\n",
        "      dcm_file = dcmread(file_name)\n",
        "\n",
        "      if (dcm_file.SOPInstanceUID in bboxs.keys()) and (\"ORIGINAL\" in dcm_file.ImageType):\n",
        "\n",
        "        if not os.path.exists(\"jpg_images/\" + ptnt):\n",
        "          os.mkdir(\"jpg_images/\" + ptnt)\n",
        "\n",
        "        pixel_array = dcm_file.pixel_array\n",
        "        if len(pixel_array.shape) == 3:\n",
        "          pixel_array = cv2.cvtColor(pixel_array, cv2.COLOR_RGB2GRAY)\n",
        "\n",
        "        \n",
        "        new_path = \"jpg_images/\" + ptnt + \"/\" + dcm_file.SOPInstanceUID + \".jpg\"\n",
        "\n",
        "        pixel_array = 255*(\n",
        "                         (pixel_array - np.min(pixel_array)) \\\n",
        "                         /(np.max(pixel_array) - np.min(pixel_array))\n",
        "                         )\n",
        "\n",
        "        if len(pixel_array.shape) == 2:\n",
        "          pixel_array = pixel_array[..., None]\n",
        "\n",
        "        cv2.imwrite(new_path, pixel_array)\n",
        "        \n",
        "    except Exception as e:\n",
        "      print(e)"
      ],
      "execution_count": null,
      "outputs": []
    },
    {
      "cell_type": "markdown",
      "metadata": {
        "id": "uA78ZNWUWiET"
      },
      "source": [
        "## Split files into train and test (%80-%20). A patient who is in train cannot be in test and classes should be distributed equally in both sets"
      ]
    },
    {
      "cell_type": "code",
      "metadata": {
        "id": "ugxWgSbPF9mn"
      },
      "source": [
        "ptnt_classes = {}\n",
        "\n",
        "ptnt_classes[\"A\"] = [k for k in ptnt_to_series_ids.keys() if \"A\" in k]\n",
        "ptnt_classes[\"B\"] = [k for k in ptnt_to_series_ids.keys() if \"B\" in k]\n",
        "ptnt_classes[\"G\"] = [k for k in ptnt_to_series_ids.keys() if \"G\" in k]\n",
        "\n",
        "train_ptnts = []\n",
        "val_ptnts = []\n",
        "\n",
        "for cls in ptnt_classes.keys():\n",
        "  permutated_list = list(np.random.permutation(np.array(ptnt_classes[cls])))\n",
        "  val_len = int(len(permutated_list)*0.25)\n",
        "\n",
        "  val_ptnts.extend(permutated_list[0:val_len])\n",
        "  train_ptnts.extend(permutated_list[val_len:])\n",
        "  \n",
        "\n",
        "!mkdir /content/lung_ct_train\n",
        "!mkdir /content/lung_ct_val\n",
        "\n",
        "\n",
        "for ptnt in os.listdir(\"jpg_images\"):\n",
        "  cur_path = \"jpg_images/\" + ptnt\n",
        "  \n",
        "  if ptnt in train_ptnts:\n",
        "    os.mkdir(\"/content/lung_ct_train/\" + ptnt)\n",
        "    new_path = \"lung_ct_train/\" + ptnt\n",
        "  else:\n",
        "    os.mkdir(\"/content/lung_ct_val/\" + ptnt)\n",
        "    new_path = \"lung_ct_val/\" + ptnt\n",
        "  os.rename(cur_path, new_path)\n",
        "\n",
        "\n",
        "subprocess.call([\"zip\",\"-r\",\"lung_ct_train.zip\",\"lung_ct_train\",\">\", \"/dev/null\"])\n",
        "subprocess.call([\"mv\",\"lung_ct_train.zip\",\"./drive/MyDrive/\"])\n",
        "\n",
        "subprocess.call([\"zip\",\"-r\",\"lung_ct_val.zip\",\"lung_ct_val\",\">\", \"/dev/null\"])\n",
        "subprocess.call([\"mv\",\"lung_ct_val.zip\",\"./drive/MyDrive/\"])"
      ],
      "execution_count": null,
      "outputs": []
    }
  ]
}