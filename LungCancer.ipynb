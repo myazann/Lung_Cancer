{
  "nbformat": 4,
  "nbformat_minor": 0,
  "metadata": {
    "colab": {
      "name": "LungCancer.ipynb",
      "provenance": [],
      "collapsed_sections": [],
      "mount_file_id": "1WapJ9LY3qQNvBuHKkGECxYIu74QohNXA",
      "authorship_tag": "ABX9TyNQeiQzHyXpd+9Kc2mtmlFL",
      "include_colab_link": true
    },
    "kernelspec": {
      "name": "python3",
      "display_name": "Python 3"
    }
  },
  "cells": [
    {
      "cell_type": "markdown",
      "metadata": {
        "id": "view-in-github",
        "colab_type": "text"
      },
      "source": [
        "<a href=\"https://colab.research.google.com/github/myazann/Lung_Cancer/blob/main/LungCancer.ipynb\" target=\"_parent\"><img src=\"https://colab.research.google.com/assets/colab-badge.svg\" alt=\"Open In Colab\"/></a>"
      ]
    },
    {
      "cell_type": "code",
      "metadata": {
        "id": "GVfaum2hcZIp",
        "colab": {
          "base_uri": "https://localhost:8080/"
        },
        "outputId": "3aa8ab78-785c-4bc4-edbc-3ebcfa046da7"
      },
      "source": [
        "!git init\n",
        "!git pull https://github.com/myazann/TCIA-API-SDK.git\n",
        "\n",
        "!cp -r /content/tcia-rest-client-python/src/* /content\n",
        "\n",
        "!rm -rf tcia-rest-client-java/\n",
        "!rm -rf tcia-rest-client-python/\n",
        "\n",
        "!cp /content/drive/MyDrive/Annotation.zip /content\n",
        "!unzip Annotation.zip\n",
        "!rm Annotation.zip\n",
        "\n",
        "!pip install xmltodict"
      ],
      "execution_count": 1,
      "outputs": [
        {
          "output_type": "stream",
          "text": [
            "Reinitialized existing Git repository in /content/.git/\n",
            "remote: Enumerating objects: 9, done.\u001b[K\n",
            "remote: Counting objects: 100% (9/9), done.\u001b[K\n",
            "remote: Compressing objects: 100% (5/5), done.\u001b[K\n",
            "remote: Total 5 (delta 3), reused 0 (delta 0), pack-reused 0\u001b[K\n",
            "Unpacking objects: 100% (5/5), done.\n",
            "From https://github.com/myazann/TCIA-API-SDK\n",
            " * branch            HEAD       -> FETCH_HEAD\n",
            "Updating 514362c..0ca85ac\n",
            "Fast-forward\n",
            " tcia-rest-client-python/src/tciaclient.py | 24 \u001b[32m++++++++++++++++++++++++\u001b[m\n",
            " 1 file changed, 24 insertions(+)\n",
            "Archive:  Annotation.zip\n",
            "replace Annotation/A0001/1.3.6.1.4.1.14519.5.2.1.6655.2359.102500633407588554681658808214.xml? [y]es, [n]o, [A]ll, [N]one, [r]ename: N\n",
            "Requirement already satisfied: xmltodict in /usr/local/lib/python3.7/dist-packages (0.12.0)\n"
          ],
          "name": "stdout"
        }
      ]
    },
    {
      "cell_type": "code",
      "metadata": {
        "id": "2oXhsF03h1qz"
      },
      "source": [
        "from tciaclient import TCIAClient\n",
        "import json\n",
        "import os\n",
        "import numpy as np\n",
        "from xml.etree import cElementTree as ElementTree\n",
        "import xmltodict\n",
        "from lxml import etree\n",
        "import urllib.request, urllib.error, urllib.parse\n"
      ],
      "execution_count": 2,
      "outputs": []
    },
    {
      "cell_type": "code",
      "metadata": {
        "id": "vpTJp5YjrkCm"
      },
      "source": [
        "tc = TCIAClient(baseUrl=\"https://services.cancerimagingarchive.net/services/v4\", resource = \"TCIA\")\n",
        "clctn = \"Lung-PET-CT-Dx\"\n",
        "series = json.loads(tc.get_series(collection = clctn, modality = \"CT\").read())\n",
        "\n",
        "ptnt_series = {}\n",
        "\n",
        "for elem in series:\n",
        "  try:\n",
        "    if elem[\"BodyPartExamined\"] == \"CHEST\":\n",
        "      pt_id = elem[\"PatientID\"].split(\"-\")[1]\n",
        "      ptnt_series[elem[\"SeriesInstanceUID\"]] = pt_id\n",
        "  except Exception as e:\n",
        "    print(e)"
      ],
      "execution_count": null,
      "outputs": []
    },
    {
      "cell_type": "code",
      "metadata": {
        "id": "BCkrh_fq-SHh"
      },
      "source": [
        "folders = np.array(os.listdir(\"Annotation\"))\n",
        "folders = [i for i in folders if \"A\" in i]\n",
        "\n",
        "bboxs = {}\n",
        "\n",
        "for folder in folders:\n",
        "  path = \"Annotation/\" + folder\n",
        "  for img in os.listdir(path):\n",
        "    file_path = path + \"/\" + img\n",
        "    try:\n",
        "      dt = xmltodict.parse(ElementTree.tostring(ElementTree.parse(file_path).getroot()))[\"annotation\"][\"object\"][\"bndbox\"]\n",
        "      img_name = folder + \"-\" + img.split(\".x\")[0]\n",
        "      bboxs[img_name] = dt\n",
        "    except Exception as e:\n",
        "      print(e, file_path)"
      ],
      "execution_count": null,
      "outputs": []
    },
    {
      "cell_type": "code",
      "metadata": {
        "id": "tUy4UBxO5W3j"
      },
      "source": [
        "sop = json.loads(tc.get_SOP_instance(list(ptnt_series.keys())[0]).read())"
      ],
      "execution_count": 4,
      "outputs": []
    },
    {
      "cell_type": "code",
      "metadata": {
        "id": "X_IeR-qPOxZj"
      },
      "source": [
        "!mkdir deneme"
      ],
      "execution_count": 13,
      "outputs": []
    },
    {
      "cell_type": "code",
      "metadata": {
        "colab": {
          "base_uri": "https://localhost:8080/"
        },
        "id": "BoodlCIn3xKQ",
        "outputId": "ff22fd14-3161-49a7-9c51-3c3410e72b31"
      },
      "source": [
        "tc.get_single_image(list(ptnt_series.keys())[0], sop[0][\"SOPInstanceUID\"], downloadPath=\"./deneme/deneme.dcm\")"
      ],
      "execution_count": 15,
      "outputs": [
        {
          "output_type": "execute_result",
          "data": {
            "text/plain": [
              "True"
            ]
          },
          "metadata": {
            "tags": []
          },
          "execution_count": 15
        }
      ]
    },
    {
      "cell_type": "code",
      "metadata": {
        "colab": {
          "base_uri": "https://localhost:8080/"
        },
        "id": "2lZx_hJkmovx",
        "outputId": "6f032014-802b-4c07-bd37-2f0a5d001823"
      },
      "source": [
        "tc.get_image(list(ptnt_series.keys())[0], \".\", \"deneme.zip\")"
      ],
      "execution_count": 28,
      "outputs": [
        {
          "output_type": "execute_result",
          "data": {
            "text/plain": [
              "<http.client.HTTPResponse at 0x7f6b6a37f750>"
            ]
          },
          "metadata": {
            "tags": []
          },
          "execution_count": 28
        }
      ]
    }
  ]
}