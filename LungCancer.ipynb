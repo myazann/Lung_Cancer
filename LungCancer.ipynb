{
  "nbformat": 4,
  "nbformat_minor": 0,
  "metadata": {
    "colab": {
      "name": "LungCancer.ipynb",
      "provenance": [],
      "collapsed_sections": [],
      "mount_file_id": "1WapJ9LY3qQNvBuHKkGECxYIu74QohNXA",
      "authorship_tag": "ABX9TyMOfSg4xmjOQdM5jcWsmD7o",
      "include_colab_link": true
    },
    "kernelspec": {
      "name": "python3",
      "display_name": "Python 3"
    }
  },
  "cells": [
    {
      "cell_type": "markdown",
      "metadata": {
        "id": "view-in-github",
        "colab_type": "text"
      },
      "source": [
        "<a href=\"https://colab.research.google.com/github/myazann/Lung_Cancer/blob/main/LungCancer.ipynb\" target=\"_parent\"><img src=\"https://colab.research.google.com/assets/colab-badge.svg\" alt=\"Open In Colab\"/></a>"
      ]
    },
    {
      "cell_type": "code",
      "metadata": {
        "id": "GVfaum2hcZIp"
      },
      "source": [
        "!git init\n",
        "!git pull https://github.com/myazann/TCIA-API-SDK.git\n",
        "\n",
        "!cp -r /content/tcia-rest-client-python/src/* /content\n",
        "\n",
        "!rm -rf tcia-rest-client-java/\n",
        "!rm -rf tcia-rest-client-python/\n",
        "\n",
        "!cp /content/drive/MyDrive/Annotation.zip /content\n",
        "!unzip Annotation.zip\n",
        "!rm Annotation.zip\n",
        "\n",
        "!pip install xmltodict"
      ],
      "execution_count": null,
      "outputs": []
    },
    {
      "cell_type": "code",
      "metadata": {
        "id": "2oXhsF03h1qz"
      },
      "source": [
        "from tciaclient import TCIAClient\n",
        "import json\n",
        "import os\n",
        "import numpy as np\n",
        "from xml.etree import cElementTree as ElementTree\n",
        "import xmltodict\n",
        "from lxml import etree\n"
      ],
      "execution_count": 169,
      "outputs": []
    },
    {
      "cell_type": "code",
      "metadata": {
        "id": "vpTJp5YjrkCm"
      },
      "source": [
        "tc = TCIAClient(baseUrl=\"https://services.cancerimagingarchive.net/services/v4\", resource = \"TCIA\")\n",
        "clctn = \"Lung-PET-CT-Dx\"\n",
        "series = json.loads(tc.get_series(collection = clctn, modality = \"CT\").read())\n",
        "\n",
        "ptnt_series = {}\n",
        "\n",
        "for elem in series:\n",
        "  try:\n",
        "    if elem[\"BodyPartExamined\"] == \"CHEST\":\n",
        "      pt_id = elem[\"PatientID\"].split(\"-\")[1]\n",
        "      ptnt_series[elem[\"SeriesInstanceUID\"]] = pt_id\n",
        "  except Exception as e:\n",
        "    print(e)"
      ],
      "execution_count": null,
      "outputs": []
    },
    {
      "cell_type": "code",
      "metadata": {
        "id": "BCkrh_fq-SHh"
      },
      "source": [
        "folders = np.array(os.listdir(\"Annotation\"))\n",
        "folders = [i for i in folders if \"A\" in i]\n",
        "\n",
        "bboxs = {}\n",
        "\n",
        "for folder in folders:\n",
        "  path = \"Annotation/\" + folder\n",
        "  for img in os.listdir(path):\n",
        "    file_path = path + \"/\" + img\n",
        "    try:\n",
        "      dt = xmltodict.parse(ElementTree.tostring(ElementTree.parse(file_path).getroot()))[\"annotation\"][\"object\"][\"bndbox\"]\n",
        "      img_name = folder + \"-\" + img.split(\".x\")[0]\n",
        "      bboxs[img_name] = dt\n",
        "    except Exception as e:\n",
        "      print(e, file_path)"
      ],
      "execution_count": null,
      "outputs": []
    }
  ]
}