{
  "nbformat": 4,
  "nbformat_minor": 0,
  "metadata": {
    "colab": {
      "name": "LungCancer.ipynb",
      "provenance": [],
      "collapsed_sections": [],
      "mount_file_id": "1WapJ9LY3qQNvBuHKkGECxYIu74QohNXA",
      "authorship_tag": "ABX9TyNuU9mvawTnSzeaniWnuItE",
      "include_colab_link": true
    },
    "kernelspec": {
      "display_name": "Python 3",
      "name": "python3"
    }
  },
  "cells": [
    {
      "cell_type": "markdown",
      "metadata": {
        "id": "view-in-github",
        "colab_type": "text"
      },
      "source": [
        "<a href=\"https://colab.research.google.com/github/myazann/Lung_Cancer/blob/main/LungCancer.ipynb\" target=\"_parent\"><img src=\"https://colab.research.google.com/assets/colab-badge.svg\" alt=\"Open In Colab\"/></a>"
      ]
    },
    {
      "cell_type": "code",
      "metadata": {
        "id": "GVfaum2hcZIp"
      },
      "source": [
        "!git init\n",
        "!git pull https://github.com/myazann/TCIA-API-SDK.git\n",
        "\n",
        "!cp -r /content/tcia-rest-client-python/src/* /content\n",
        "\n",
        "!rm -rf tcia-rest-client-java/\n",
        "!rm -rf tcia-rest-client-python/\n",
        "\n",
        "!cp /content/drive/MyDrive/Annotation.zip /content\n",
        "!unzip Annotation.zip\n",
        "!rm Annotation.zip\n",
        "\n",
        "!pip install xmltodict\n",
        "\n",
        "from tciaclient import TCIAClient\n",
        "import json\n",
        "import os\n",
        "import numpy as np\n",
        "from xml.etree import cElementTree as ElementTree\n",
        "import xmltodict\n",
        "import urllib.request, urllib.error, urllib.parse"
      ],
      "execution_count": null,
      "outputs": []
    },
    {
      "cell_type": "code",
      "metadata": {
        "id": "BCkrh_fq-SHh",
        "colab": {
          "base_uri": "https://localhost:8080/"
        },
        "outputId": "75b90447-90b9-4d22-901e-72d3e6011185"
      },
      "source": [
        "folders = np.array(os.listdir(\"Annotation\"))\n",
        "##folders = [i for i in folders if \"A\" in i]\n",
        "\n",
        "bboxs = {}\n",
        "\n",
        "for folder in folders:\n",
        "  path = \"Annotation/\" + folder\n",
        "  for img in os.listdir(path):\n",
        "    file_path = path + \"/\" + img\n",
        "    try:\n",
        "      dt = xmltodict.parse(ElementTree.tostring(ElementTree.parse(file_path).getroot()))[\"annotation\"][\"object\"]\n",
        "      if isinstance(dt, list):\n",
        "        box_list = []\n",
        "        for box in dt:\n",
        "          box_list.append(box)\n",
        "      else:\n",
        "        dt = dt[\"bndbox\"]\n",
        "      img_name = folder + \"-\" + img.split(\".x\")[0]\n",
        "      bboxs[img_name] = dt\n",
        "    except Exception as e:\n",
        "      print(e)"
      ],
      "execution_count": 2,
      "outputs": [
        {
          "output_type": "stream",
          "text": [
            "not well-formed (invalid token): line 1, column 0\n"
          ],
          "name": "stdout"
        }
      ]
    },
    {
      "cell_type": "code",
      "metadata": {
        "id": "vpTJp5YjrkCm"
      },
      "source": [
        "tc = TCIAClient(baseUrl=\"https://services.cancerimagingarchive.net/services/v4\", resource = \"TCIA\")\n",
        "clctn = \"Lung-PET-CT-Dx\"\n",
        "series = json.loads(tc.get_series(collection = clctn, modality = \"CT\").read())\n",
        "\n",
        "ptnt_to_series_ids = {}\n",
        "\n",
        "for elem in series:\n",
        "  try:\n",
        "    if elem[\"BodyPartExamined\"] == \"CHEST\":\n",
        "      pt_id = elem[\"PatientID\"].split(\"-\")[1]\n",
        "      ptnt_to_series_ids[elem[\"SeriesInstanceUID\"]] = pt_id\n",
        "  except Exception as e:\n",
        "    print(e)\n",
        "\n",
        "sop_to_series_ids = {}\n",
        "\n",
        "for series in ptnt_to_series_ids.keys():\n",
        "  sop = json.loads(tc.get_SOP_instance(series).read())\n",
        "  for id in sop:\n",
        "    sop_to_series_ids[id[\"SOPInstanceUID\"]] = series\n",
        "\n",
        "imgs_with_bboxs = [box.split(\"-\")[1] for box in bboxs.keys()]\n",
        "sop_to_series_ids = dict((img, sop_to_series_ids[img]) for img in sop_to_series_ids.keys() if img in imgs_with_bboxs)\n",
        "\n",
        "with open('ptnt_to_series_ids.json', 'w') as json_file:\n",
        "  json.dump(ptnt_to_series_ids, json_file)\n",
        "\n",
        "with open('sop_to_series_ids.json', 'w') as json_file:\n",
        "  json.dump(sop_to_series_ids, json_file)"
      ],
      "execution_count": null,
      "outputs": []
    },
    {
      "cell_type": "code",
      "metadata": {
        "id": "QUOtyNFueVh1"
      },
      "source": [
        "with open('ptnt_to_series_ids.json') as f:\n",
        "  ptnt_to_series_ids = json.load(f)\n",
        "\n",
        "with open('sop_to_series_ids.json') as f:\n",
        "  sop_to_series_ids = json.load(f)"
      ],
      "execution_count": 60,
      "outputs": []
    },
    {
      "cell_type": "code",
      "metadata": {
        "id": "X_IeR-qPOxZj"
      },
      "source": [
        "if not os.path.exists(\"images\"):\n",
        "  os.mkdir(\"images\")\n",
        "\n",
        "existing_images = os.listdir(\"images\")\n",
        "\n",
        "for img in sop_to_series_ids.keys():\n",
        "  download_path = \"./images/\" + img + \".dcm\"\n",
        "  if img not in existing_images:\n",
        "    tc.get_single_image(sop_to_series_ids[img], img, downloadPath = download_path)\n",
        "  print(\"zaten var\")"
      ],
      "execution_count": null,
      "outputs": []
    }
  ]
}